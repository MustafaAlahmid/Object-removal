{
 "cells": [
  {
   "cell_type": "code",
   "execution_count": 1,
   "id": "10193e30",
   "metadata": {},
   "outputs": [],
   "source": [
    "import os\n",
    "import shutil\n",
    "import pandas as pd \n",
    "import numpy as np\n",
    "import cv2 "
   ]
  },
  {
   "cell_type": "code",
   "execution_count": 2,
   "id": "ccb8ec1b",
   "metadata": {},
   "outputs": [],
   "source": [
    "from get_bbox import get_bboxes_from_voc_xml\n",
    "from remove_object import remove_object_from_image"
   ]
  },
  {
   "cell_type": "code",
   "execution_count": 3,
   "id": "5ec24ed0",
   "metadata": {},
   "outputs": [
    {
     "name": "stdout",
     "output_type": "stream",
     "text": [
      "[3, 18, 114, 298, 'person']\n"
     ]
    }
   ],
   "source": [
    "bbox = get_bboxes_from_voc_xml('D:/Object_removal/data/xmls/2007_001526.xml')\n",
    "print(bbox[0])"
   ]
  },
  {
   "cell_type": "code",
   "execution_count": 4,
   "id": "4826082c",
   "metadata": {},
   "outputs": [
    {
     "ename": "TypeError",
     "evalue": "remove_object_from_image() missing 1 required positional argument: 'obj_name'",
     "output_type": "error",
     "traceback": [
      "\u001b[1;31m---------------------------------------------------------------------------\u001b[0m",
      "\u001b[1;31mTypeError\u001b[0m                                 Traceback (most recent call last)",
      "\u001b[1;32mC:\\Windows\\Temp\\ipykernel_35164\\2632320635.py\u001b[0m in \u001b[0;36m<module>\u001b[1;34m\u001b[0m\n\u001b[1;32m----> 1\u001b[1;33m \u001b[0mdst\u001b[0m \u001b[1;33m=\u001b[0m \u001b[0mremove_object_from_image\u001b[0m\u001b[1;33m(\u001b[0m\u001b[1;34m'D:/Object_removal/Data/xmls/2007_001526.jpg'\u001b[0m\u001b[1;33m,\u001b[0m\u001b[0mbbox\u001b[0m\u001b[1;33m)\u001b[0m\u001b[1;33m\u001b[0m\u001b[1;33m\u001b[0m\u001b[0m\n\u001b[0m\u001b[0;32m      2\u001b[0m \u001b[0mcv2\u001b[0m\u001b[1;33m.\u001b[0m\u001b[0mimwrite\u001b[0m\u001b[1;33m(\u001b[0m\u001b[1;34m'a.jpg'\u001b[0m\u001b[1;33m,\u001b[0m \u001b[0mdst\u001b[0m\u001b[1;33m)\u001b[0m\u001b[1;33m\u001b[0m\u001b[1;33m\u001b[0m\u001b[0m\n",
      "\u001b[1;31mTypeError\u001b[0m: remove_object_from_image() missing 1 required positional argument: 'obj_name'"
     ]
    }
   ],
   "source": [
    "dst = remove_object_from_image('D:/Object_removal/data/xmls/2007_001526.jpg',bbox)\n",
    "cv2.imwrite('a.jpg', dst)"
   ]
  },
  {
   "cell_type": "code",
   "execution_count": 5,
   "id": "46d14b3f",
   "metadata": {},
   "outputs": [
    {
     "name": "stdout",
     "output_type": "stream",
     "text": [
      "[[174, 101, 349, 351, 'person']]\n",
      "[[104, 78, 375, 183, 'aeroplane'], [133, 88, 197, 123, 'aeroplane'], [195, 180, 213, 229, 'person'], [26, 189, 44, 238, 'person']]\n",
      "[[9, 107, 499, 263, 'aeroplane'], [421, 200, 482, 226, 'aeroplane'], [325, 188, 411, 223, 'aeroplane']]\n",
      "[[156, 89, 344, 279, 'tvmonitor']]\n",
      "[[263, 32, 500, 295, 'train'], [1, 36, 235, 299, 'train']]\n",
      "[[274, 11, 437, 279, 'boat'], [184, 214, 281, 252, 'boat']]\n",
      "[[123, 115, 379, 275, 'dog'], [75, 1, 428, 375, 'chair']]\n",
      "[[27, 45, 266, 375, 'bird']]\n",
      "[[251, 28, 475, 267, 'tvmonitor'], [22, 28, 251, 273, 'tvmonitor']]\n",
      "[[1, 26, 358, 340, 'train']]\n",
      "[[70, 202, 255, 500, 'bicycle'], [251, 242, 334, 500, 'bicycle'], [1, 144, 67, 436, 'bicycle'], [1, 1, 66, 363, 'person'], [74, 1, 272, 462, 'person'], [252, 19, 334, 487, 'person']]\n",
      "[[87, 100, 109, 165, 'bottle'], [41, 114, 73, 181, 'bottle'], [324, 148, 352, 206, 'bottle'], [426, 157, 443, 195, 'bottle'], [3, 91, 43, 206, 'person'], [4, 28, 461, 372, 'person']]\n",
      "[[25, 34, 419, 271, 'sheep']]\n",
      "[[1, 95, 240, 336, 'tvmonitor']]\n",
      "[[356, 183, 500, 280, 'boat'], [60, 109, 142, 213, 'boat'], [246, 134, 348, 217, 'boat']]\n",
      "[[181, 127, 274, 193, 'aeroplane']]\n",
      "[[1, 170, 474, 375, 'diningtable'], [97, 124, 150, 297, 'bottle']]\n",
      "[[8, 96, 491, 232, 'aeroplane']]\n",
      "[[25, 71, 304, 500, 'person']]\n",
      "[[277, 3, 500, 375, 'person'], [12, 3, 305, 375, 'person']]\n",
      "[[54, 50, 285, 262, 'horse']]\n",
      "[[1, 39, 367, 270, 'train']]\n",
      "[[124, 107, 230, 343, 'bottle'], [137, 78, 497, 375, 'person'], [89, 202, 129, 247, 'person'], [72, 209, 111, 259, 'person']]\n",
      "[[59, 15, 220, 239, 'bird'], [161, 122, 500, 333, 'bird']]\n",
      "[[54, 25, 454, 315, 'motorbike'], [318, 37, 489, 161, 'motorbike'], [369, 1, 458, 130, 'person']]\n",
      "[[100, 96, 355, 324, 'horse'], [198, 58, 286, 197, 'person']]\n",
      "[[51, 80, 122, 266, 'person'], [367, 92, 461, 315, 'person']]\n",
      "[[50, 121, 295, 338, 'sofa'], [474, 140, 500, 284, 'chair']]\n",
      "[[71, 252, 216, 314, 'cow'], [58, 202, 241, 295, 'cow']]\n",
      "[[293, 162, 419, 375, 'person'], [114, 165, 228, 373, 'person'], [5, 172, 116, 373, 'person'], [2, 68, 486, 325, 'aeroplane']]\n",
      "[[2, 2, 459, 334, 'cow']]\n",
      "[[341, 102, 500, 406, 'cow'], [36, 34, 79, 123, 'person'], [2, 44, 36, 120, 'person'], [29, 42, 41, 64, 'person']]\n",
      "[[1, 199, 40, 293, 'bicycle'], [1, 85, 29, 279, 'person'], [64, 164, 151, 210, 'car'], [147, 167, 186, 200, 'car']]\n",
      "[[124, 68, 319, 310, 'cat']]\n",
      "[[290, 143, 500, 250, 'boat'], [422, 237, 461, 255, 'car']]\n",
      "[[1, 49, 341, 499, 'cat']]\n",
      "[[36, 250, 79, 354, 'bottle'], [160, 26, 371, 241, 'tvmonitor']]\n",
      "[[1, 178, 235, 331, 'bicycle'], [8, 134, 226, 297, 'bicycle']]\n",
      "[[31, 74, 369, 346, 'bicycle'], [344, 207, 500, 374, 'sofa']]\n",
      "[[34, 84, 500, 184, 'train'], [87, 100, 107, 124, 'person']]\n",
      "[[79, 96, 392, 300, 'train']]\n",
      "[[135, 46, 500, 374, 'bird'], [124, 146, 365, 375, 'bird']]\n",
      "[[394, 199, 404, 223, 'person'], [424, 199, 436, 220, 'person'], [434, 196, 444, 220, 'person'], [443, 195, 452, 220, 'person'], [29, 113, 353, 266, 'bus'], [328, 86, 474, 192, 'aeroplane'], [2, 213, 28, 235, 'car']]\n",
      "[[119, 177, 331, 278, 'sofa'], [65, 90, 170, 197, 'pottedplant'], [133, 159, 179, 197, 'chair']]\n",
      "[[12, 2, 417, 467, 'bus'], [7, 39, 63, 94, 'car'], [362, 24, 422, 53, 'car'], [376, 36, 422, 81, 'car'], [373, 68, 422, 108, 'car'], [376, 98, 422, 210, 'car']]\n",
      "[[51, 2, 325, 375, 'person']]\n",
      "[[59, 94, 472, 270, 'sheep']]\n",
      "[[80, 168, 254, 312, 'boat'], [184, 160, 472, 269, 'boat']]\n",
      "[[217, 118, 305, 263, 'dog']]\n",
      "[[89, 323, 273, 436, 'bus'], [272, 369, 323, 388, 'car'], [2, 380, 89, 435, 'car'], [333, 356, 358, 438, 'person'], [319, 357, 341, 424, 'person'], [354, 363, 375, 414, 'person'], [49, 367, 90, 389, 'car'], [113, 138, 160, 164, 'car']]\n",
      "[[48, 25, 273, 383, 'person'], [103, 201, 448, 435, 'motorbike']]\n",
      "[[1, 124, 496, 235, 'aeroplane']]\n",
      "[[1, 189, 500, 375, 'diningtable'], [29, 152, 118, 375, 'bottle'], [382, 61, 500, 261, 'person'], [342, 142, 393, 202, 'person'], [143, 127, 266, 223, 'person'], [199, 140, 220, 187, 'person'], [4, 22, 124, 252, 'person'], [3, 249, 174, 328, 'person']]\n",
      "[[369, 103, 475, 283, 'bus'], [33, 46, 369, 330, 'bus']]\n",
      "[[201, 57, 325, 259, 'person'], [112, 100, 441, 409, 'horse']]\n",
      "[[289, 100, 316, 183, 'person'], [241, 111, 270, 180, 'person'], [218, 107, 236, 178, 'person'], [402, 67, 467, 259, 'person'], [65, 110, 84, 161, 'person'], [96, 107, 114, 159, 'person'], [100, 78, 190, 282, 'person'], [273, 103, 295, 182, 'person'], [151, 160, 310, 280, 'bicycle'], [2, 80, 51, 135, 'bus']]\n",
      "[[95, 23, 500, 441, 'horse'], [230, 225, 500, 441, 'person']]\n",
      "[[94, 243, 153, 304, 'chair'], [32, 352, 126, 491, 'chair'], [191, 265, 332, 470, 'sofa']]\n",
      "[[34, 31, 200, 500, 'person']]\n",
      "[[98, 165, 230, 346, 'motorbike'], [231, 168, 353, 323, 'motorbike']]\n",
      "[[124, 182, 352, 370, 'diningtable'], [150, 221, 259, 375, 'chair'], [252, 201, 348, 347, 'chair'], [250, 175, 318, 248, 'chair']]\n",
      "[[69, 99, 224, 297, 'person'], [93, 162, 226, 442, 'horse']]\n",
      "[[261, 65, 365, 159, 'boat']]\n",
      "[[1, 279, 208, 500, 'diningtable'], [61, 111, 296, 500, 'person']]\n",
      "[[305, 131, 318, 151, 'person'], [304, 142, 354, 160, 'boat']]\n",
      "[[117, 31, 376, 329, 'cat'], [261, 14, 398, 132, 'cat']]\n",
      "[[237, 167, 338, 263, 'cow'], [17, 113, 165, 238, 'person'], [1, 213, 305, 375, 'horse']]\n",
      "[[29, 101, 216, 343, 'sheep'], [309, 105, 460, 333, 'sheep']]\n",
      "[[233, 317, 289, 405, 'bottle'], [2, 16, 280, 500, 'person']]\n",
      "[[203, 174, 254, 273, 'chair'], [329, 174, 348, 223, 'chair'], [256, 189, 306, 292, 'chair'], [263, 218, 351, 329, 'chair'], [401, 270, 500, 375, 'sofa'], [58, 156, 94, 218, 'bicycle'], [1, 244, 43, 340, 'tvmonitor']]\n",
      "[[55, 178, 149, 248, 'cow'], [135, 176, 174, 241, 'cow'], [227, 153, 282, 236, 'cow'], [276, 159, 350, 255, 'cow'], [327, 152, 425, 240, 'cow'], [421, 161, 500, 227, 'cow']]\n",
      "[[148, 138, 403, 302, 'sofa'], [75, 85, 146, 153, 'tvmonitor'], [1, 7, 142, 375, 'pottedplant']]\n",
      "[[1, 233, 174, 375, 'sofa'], [134, 230, 171, 274, 'pottedplant']]\n",
      "[[119, 153, 367, 329, 'person'], [157, 169, 256, 230, 'person'], [360, 114, 449, 187, 'tvmonitor']]\n",
      "[[197, 199, 289, 323, 'cat'], [78, 78, 289, 375, 'person'], [204, 223, 500, 375, 'diningtable'], [452, 131, 500, 253, 'bottle']]\n",
      "[[100, 212, 303, 414, 'dog']]\n",
      "[[108, 60, 320, 160, 'dog'], [228, 138, 381, 375, 'dog'], [118, 94, 286, 307, 'dog']]\n",
      "[[135, 123, 235, 375, 'person'], [238, 115, 376, 304, 'person'], [276, 117, 426, 360, 'person'], [301, 114, 500, 375, 'person'], [1, 114, 126, 375, 'person'], [419, 90, 448, 139, 'person']]\n",
      "[[68, 76, 426, 209, 'aeroplane'], [357, 272, 497, 317, 'aeroplane'], [196, 272, 316, 314, 'aeroplane']]\n",
      "[[157, 98, 355, 188, 'bird']]\n",
      "[[39, 26, 229, 412, 'cow'], [211, 240, 319, 408, 'cow'], [318, 221, 408, 435, 'cow']]\n",
      "[[465, 104, 490, 166, 'bicycle'], [432, 118, 465, 186, 'bicycle'], [334, 128, 380, 220, 'bicycle'], [177, 188, 304, 319, 'bicycle'], [12, 161, 181, 319, 'bicycle'], [463, 67, 495, 154, 'person'], [431, 75, 468, 171, 'person'], [333, 79, 387, 201, 'person'], [187, 106, 291, 293, 'person'], [27, 61, 163, 280, 'person']]\n",
      "[[1, 98, 456, 333, 'car']]\n",
      "[[326, 284, 500, 375, 'dog'], [213, 48, 406, 266, 'chair'], [150, 140, 252, 375, 'person'], [92, 111, 331, 374, 'person']]\n",
      "[[273, 163, 318, 250, 'aeroplane']]\n",
      "[[128, 121, 214, 263, 'dog']]\n",
      "[[114, 245, 178, 448, 'bottle'], [56, 107, 230, 387, 'person'], [20, 68, 50, 167, 'bottle'], [210, 1, 333, 108, 'person'], [84, 87, 333, 366, 'person'], [119, 1, 184, 130, 'pottedplant']]\n",
      "[[208, 78, 401, 192, 'sheep'], [19, 71, 183, 195, 'sheep'], [1, 106, 121, 249, 'sheep'], [1, 185, 324, 328, 'sheep'], [330, 26, 472, 106, 'sheep'], [27, 13, 252, 134, 'sheep']]\n",
      "[[192, 109, 340, 270, 'horse'], [281, 80, 364, 268, 'person'], [436, 148, 500, 306, 'pottedplant']]\n",
      "[[124, 56, 382, 333, 'person']]\n",
      "[[1, 269, 250, 374, 'diningtable'], [100, 154, 235, 286, 'person'], [211, 146, 303, 352, 'person'], [245, 154, 398, 374, 'person'], [56, 174, 100, 220, 'pottedplant'], [316, 1, 418, 66, 'tvmonitor'], [344, 83, 428, 214, 'pottedplant']]\n",
      "[[4, 324, 375, 500, 'diningtable'], [195, 282, 273, 336, 'chair']]\n",
      "[[136, 121, 350, 264, 'sofa'], [432, 212, 500, 375, 'chair']]\n",
      "[[106, 121, 392, 299, 'sofa']]\n",
      "[[242, 117, 277, 151, 'boat']]\n",
      "[[3, 18, 114, 298, 'person'], [109, 51, 214, 297, 'person'], [212, 35, 316, 297, 'person'], [289, 33, 387, 297, 'person'], [381, 15, 500, 297, 'person']]\n",
      "[[1, 56, 286, 329, 'person'], [283, 15, 500, 328, 'person']]\n",
      "[[3, 42, 400, 372, 'aeroplane']]\n",
      "[[312, 45, 412, 282, 'person'], [70, 16, 232, 375, 'person']]\n",
      "[[197, 115, 328, 358, 'person'], [6, 180, 425, 341, 'sofa'], [58, 158, 72, 191, 'bottle']]\n"
     ]
    }
   ],
   "source": [
    "path = 'data/xmls/'\n",
    "for xml in os.listdir(path):\n",
    "    if xml.endswith('.xml'):\n",
    "        xml_file = path+xml\n",
    "        bbox = get_bboxes_from_voc_xml(xml_file)\n",
    "        print(bbox)"
   ]
  },
  {
   "cell_type": "code",
   "execution_count": 7,
   "id": "23a1d00b",
   "metadata": {},
   "outputs": [],
   "source": [
    "path = 'data/xmls/'\n",
    "for xml in os.listdir(path):\n",
    "    if xml.endswith('.xml'):\n",
    "        img_name = xml[0:-4]+'.jpg'\n",
    "        img_path = path+img_name\n",
    "        \n",
    "        xml_file = path+xml\n",
    "        bboxes = get_bboxes_from_voc_xml(xml_file)\n",
    "        obj_name = 'person'\n",
    "        \n",
    "       \n",
    "        dst = remove_object_from_image(img_path,bboxes,obj_name)\n",
    "        cv2.imwrite(f'rem/{img_name}',dst )\n"
   ]
  },
  {
   "cell_type": "code",
   "execution_count": null,
   "id": "6f374cc5",
   "metadata": {},
   "outputs": [],
   "source": [
    "\n",
    "        \n",
    "    "
   ]
  },
  {
   "cell_type": "code",
   "execution_count": null,
   "id": "8223218c",
   "metadata": {},
   "outputs": [],
   "source": []
  },
  {
   "cell_type": "code",
   "execution_count": null,
   "id": "c3277e2a",
   "metadata": {},
   "outputs": [],
   "source": []
  },
  {
   "cell_type": "code",
   "execution_count": null,
   "id": "367b7ba7",
   "metadata": {},
   "outputs": [],
   "source": []
  },
  {
   "cell_type": "code",
   "execution_count": null,
   "id": "b0ac1abb",
   "metadata": {},
   "outputs": [],
   "source": []
  }
 ],
 "metadata": {
  "kernelspec": {
   "display_name": "tf",
   "language": "python",
   "name": "python3"
  },
  "language_info": {
   "codemirror_mode": {
    "name": "ipython",
    "version": 3
   },
   "file_extension": ".py",
   "mimetype": "text/x-python",
   "name": "python",
   "nbconvert_exporter": "python",
   "pygments_lexer": "ipython3",
   "version": "3.7.13"
  },
  "vscode": {
   "interpreter": {
    "hash": "81a7055fb31d802ce0dc826e8ae04450b2aa6caf95beaf87906aa81810c82d8a"
   }
  }
 },
 "nbformat": 4,
 "nbformat_minor": 5
}
